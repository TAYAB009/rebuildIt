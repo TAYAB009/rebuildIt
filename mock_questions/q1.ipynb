{
 "cells": [
  {
   "cell_type": "markdown",
   "id": "23b07d6e",
   "metadata": {},
   "source": [
    "## Finding two numbers in an array that sum to a target value"
   ]
  },
  {
   "cell_type": "code",
   "execution_count": 1,
   "id": "2871b629",
   "metadata": {},
   "outputs": [
    {
     "name": "stdout",
     "output_type": "stream",
     "text": [
      "(0, 1)\n",
      "(1, 2)\n",
      "(0, 1)\n",
      "None\n"
     ]
    }
   ],
   "source": [
    "def two_sum(nums, target):\n",
    "    \"\"\"\n",
    "    Find indices of two numbers that add up to target\n",
    "    \n",
    "    Args:\n",
    "        nums: List of integers\n",
    "        target: Target sum\n",
    "        \n",
    "    Returns:\n",
    "        Tuple of indices of the two numbers\n",
    "    \n",
    "    Time Complexity: O(n)\n",
    "    Space Complexity: O(n)\n",
    "    \"\"\"\n",
    "    # Create a dictionary to store values we've seen\n",
    "    seen = {}\n",
    "    \n",
    "    # Loop through the array\n",
    "    for i, num in enumerate(nums):\n",
    "        # Calculate the complement (what we need to find)\n",
    "        complement = target - num\n",
    "        \n",
    "        # If we've seen the complement before, return both indices\n",
    "        if complement in seen:\n",
    "            return (seen[complement], i)\n",
    "        \n",
    "        # Store the current number and its index\n",
    "        seen[num] = i\n",
    "    \n",
    "    # If no solution is found\n",
    "    return None\n",
    "\n",
    "# Test cases\n",
    "print(two_sum([2, 7, 11, 15], 9))  # Should return (0, 1)\n",
    "print(two_sum([3, 2, 4], 6))      # Should return (1, 2)\n",
    "print(two_sum([3, 3], 6))         # Should return (0, 1)\n",
    "print(two_sum([1, 2, 3, 4], 10))  # Should return None"
   ]
  },
  {
   "cell_type": "code",
   "execution_count": null,
   "id": "c04a9d18",
   "metadata": {},
   "outputs": [],
   "source": []
  },
  {
   "cell_type": "code",
   "execution_count": null,
   "id": "5462c52f",
   "metadata": {},
   "outputs": [],
   "source": []
  }
 ],
 "metadata": {
  "kernelspec": {
   "display_name": "Python 3",
   "language": "python",
   "name": "python3"
  },
  "language_info": {
   "codemirror_mode": {
    "name": "ipython",
    "version": 3
   },
   "file_extension": ".py",
   "mimetype": "text/x-python",
   "name": "python",
   "nbconvert_exporter": "python",
   "pygments_lexer": "ipython3",
   "version": "3.11.11"
  }
 },
 "nbformat": 4,
 "nbformat_minor": 5
}
