{
 "cells": [
  {
   "cell_type": "markdown",
   "metadata": {},
   "source": [
    "## DSA Selection Sort\n",
    "- Selection sort find the lowest value in the array and move it to the start of array\n",
    "\n",
    "1. `Pro Tip 💡: We will run the main loop(inner loop) one-less time then the length of the array. Reason: the last elelment do not need to be bring to start as it already in correct position. The outer loop should run as len(array)-1 times`"
   ]
  },
  {
   "cell_type": "code",
   "execution_count": null,
   "metadata": {},
   "outputs": [
    {
     "name": "stdout",
     "output_type": "stream",
     "text": [
      "64\n",
      "34\n",
      "25\n",
      "22\n",
      "90\n",
      "64\n",
      "34\n",
      "25\n",
      "22\n",
      "90\n",
      "64\n",
      "34\n",
      "25\n",
      "22\n",
      "90\n",
      "64\n",
      "34\n",
      "25\n",
      "22\n",
      "90\n",
      "64\n",
      "34\n",
      "25\n",
      "22\n",
      "90\n",
      "64\n",
      "34\n",
      "25\n",
      "22\n",
      "90\n",
      "64\n",
      "34\n",
      "25\n",
      "22\n",
      "90\n",
      "64\n",
      "34\n",
      "25\n",
      "22\n",
      "90\n"
     ]
    }
   ],
   "source": [
    "my_array = [64, 34, 25, 5, 22, 11, 90, 12]\n",
    "n = len(my_array)\n",
    "\n",
    "for i in range(n):\n",
    "    for j in range(n-1):\n",
    "        if my_array[j] < my_array[j+1]:\n",
    "            # print(my_array[j])\n",
    "            pass\n",
    "        else:\n",
    "            print(my_array[j])\n",
    "\n",
    "          \n",
    "          "
   ]
  },
  {
   "cell_type": "code",
   "execution_count": null,
   "metadata": {},
   "outputs": [],
   "source": []
  }
 ],
 "metadata": {
  "kernelspec": {
   "display_name": "Python 3",
   "language": "python",
   "name": "python3"
  },
  "language_info": {
   "codemirror_mode": {
    "name": "ipython",
    "version": 3
   },
   "file_extension": ".py",
   "mimetype": "text/x-python",
   "name": "python",
   "nbconvert_exporter": "python",
   "pygments_lexer": "ipython3",
   "version": "3.11.11"
  }
 },
 "nbformat": 4,
 "nbformat_minor": 2
}
