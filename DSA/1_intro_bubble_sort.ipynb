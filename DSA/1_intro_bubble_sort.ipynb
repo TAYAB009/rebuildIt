{
 "cells": [
  {
   "cell_type": "markdown",
   "metadata": {},
   "source": [
    "## Introduction to Data Structures and Algorithms\n",
    "- Data Structures is about how data can be stored in different structures.\n",
    "- Algorithms is about how to solve different problems, often by searching through and manipulating data structures.\n",
    "1. Primitive Data Structures\n",
    "2. Abstract Data Structures"
   ]
  },
  {
   "cell_type": "markdown",
   "metadata": {},
   "source": [
    "## Fibonacci Numbers\n",
    "- The two first Fibonacci numbers are 0 and 1, and the next Fibonacci number is always the sum of the two previous numbers, so we get 0, 1, 1, 2, 3, 5, 8, 13, 21, ...\n"
   ]
  },
  {
   "cell_type": "markdown",
   "metadata": {},
   "source": [
    "### Implementation Using Loops"
   ]
  },
  {
   "cell_type": "code",
   "execution_count": 4,
   "metadata": {},
   "outputs": [
    {
     "name": "stdout",
     "output_type": "stream",
     "text": [
      "0____1 = 1\n",
      "1____1 = 2\n",
      "1____2 = 3\n",
      "2____3 = 5\n",
      "3____5 = 8\n",
      "5____8 = 13\n",
      "8____13 = 21\n",
      "13____21 = 34\n",
      "21____34 = 55\n",
      "34____55 = 89\n",
      "55____89 = 144\n",
      "89____144 = 233\n",
      "144____233 = 377\n",
      "233____377 = 610\n",
      "377____610 = 987\n",
      "610____987 = 1597\n",
      "987____1597 = 2584\n",
      "1597____2584 = 4181\n"
     ]
    }
   ],
   "source": [
    "num1 = 0\n",
    "num2 = 1\n",
    "\n",
    "for item in range(18):\n",
    "    next_num = num1+num2\n",
    "    print(f'{num1}____{num2} = {next_num}')\n",
    "    num1 = num2\n",
    "    num2 = next_num\n",
    "\n",
    " "
   ]
  },
  {
   "cell_type": "markdown",
   "metadata": {},
   "source": [
    "### Implementation Using Recursion"
   ]
  },
  {
   "cell_type": "code",
   "execution_count": 21,
   "metadata": {},
   "outputs": [
    {
     "name": "stdout",
     "output_type": "stream",
     "text": [
      "1\n",
      "2\n",
      "3\n",
      "5\n",
      "8\n",
      "13\n",
      "21\n",
      "34\n",
      "55\n",
      "89\n",
      "144\n",
      "233\n",
      "377\n",
      "610\n",
      "987\n",
      "1597\n",
      "2584\n",
      "4181\n",
      "6765\n",
      "10946\n",
      "None\n"
     ]
    }
   ],
   "source": [
    "def fibonacci(num1, num2, count=0):\n",
    "    if count < 20:\n",
    "        next_fibo = num1 + num2 \n",
    "        num1 = num2 \n",
    "        num2 = next_fibo\n",
    "        print(next_fibo)\n",
    "        fibonacci(num1, num2, count+1)\n",
    "\n",
    "print(fibonacci(0, 1))"
   ]
  },
  {
   "cell_type": "markdown",
   "metadata": {},
   "source": [
    "### Finding The nth Fibonacci Number Using Recursion"
   ]
  },
  {
   "cell_type": "code",
   "execution_count": 26,
   "metadata": {},
   "outputs": [
    {
     "name": "stdout",
     "output_type": "stream",
     "text": [
      "4181\n"
     ]
    }
   ],
   "source": [
    "# uses 0 based index systems meaning that for 20 we need to use 19\n",
    "def F(n):\n",
    "    if n <= 1:\n",
    "        return n\n",
    "    else:\n",
    "        return F(n-1) + F(n-2)\n",
    "\n",
    "\n",
    "print(F(19))"
   ]
  },
  {
   "cell_type": "markdown",
   "metadata": {},
   "source": [
    "# DSA Arrays\n"
   ]
  },
  {
   "cell_type": "markdown",
   "metadata": {},
   "source": [
    "## Arrays"
   ]
  },
  {
   "cell_type": "code",
   "execution_count": 30,
   "metadata": {},
   "outputs": [
    {
     "data": {
      "text/plain": [
       "[1, 2, 3, 4, 5, 6]"
      ]
     },
     "execution_count": 30,
     "metadata": {},
     "output_type": "execute_result"
    }
   ],
   "source": [
    "my_array = [1, 2, 3, 4, 5, 6]\n",
    "my_array"
   ]
  },
  {
   "cell_type": "markdown",
   "metadata": {},
   "source": [
    "### Algorithm: Find The Lowest Value in an Array\n"
   ]
  },
  {
   "cell_type": "code",
   "execution_count": 42,
   "metadata": {},
   "outputs": [
    {
     "name": "stdout",
     "output_type": "stream",
     "text": [
      "4\n"
     ]
    }
   ],
   "source": [
    "my_array = [11, 21, 31, 4, 5, 6]\n",
    "\n",
    "min_val = my_array[0]\n",
    "for n in my_array:\n",
    "    if n < min_val:\n",
    "      min_val = n \n",
    "        \n",
    "print(min_val)\n",
    "    \n"
   ]
  },
  {
   "cell_type": "markdown",
   "metadata": {},
   "source": [
    "### DSA Bubble Sort\n",
    "- Bubble Sort is an algorithm that sorts an array from the lowest value to the highest value.\n",
    "\n",
    "1. An array with values to sort.\n",
    "2. An inner loop that goes through the array and swaps values if the first value is higher than the next value. This loop must loop through one less value each time it runs.\n",
    "3. An outer loop that controls how many times the inner loop must run. For an array with n values, this outer loop must run n-1 times.\n",
    "\n",
    "`Pro Tip💡`\n",
    "- `1. The outer loop will run for len(array)-1 times becuase during len(array)-1 passes the array is fully sorted so last pass is absolutely redundent`\n",
    "- `2. The inner loop will keep on shrinking after each pass coz in each pass the largest number is placed in it's original position`\n",
    "\n",
    "- So, if outer loop run for len(array), and inner loop run for len(array)-1, it will still work but it is redundent"
   ]
  },
  {
   "cell_type": "code",
   "execution_count": null,
   "metadata": {},
   "outputs": [
    {
     "name": "stdout",
     "output_type": "stream",
     "text": [
      "[5, 11, 12, 22, 25, 34, 64, 90]\n"
     ]
    }
   ],
   "source": [
    "my_array = [64, 34, 25, 12, 22, 11, 90, 5]\n",
    "\n",
    "for i in range(len(my_array)-1):\n",
    "    for j in range(len(my_array)-i-1):\n",
    "        if my_array[j] > my_array[j+1]:\n",
    "            my_array[j], my_array[j+1] = my_array[j+1],  my_array[j]\n",
    "\n",
    "print(my_array)  "
   ]
  },
  {
   "cell_type": "markdown",
   "metadata": {},
   "source": [
    "### Bubble Sort Improvement\n"
   ]
  },
  {
   "cell_type": "code",
   "execution_count": 6,
   "metadata": {},
   "outputs": [
    {
     "name": "stdout",
     "output_type": "stream",
     "text": [
      "Pass val: 0\n",
      "Condition Does not meet\n",
      "Pass val: 1\n",
      "34 ----- 2\n",
      "Pass val: 2\n",
      "34 ----- 3\n",
      "Pass val: 3\n",
      "34 ----- 4\n",
      "Pass val: 4\n",
      "34 ----- 5\n",
      "Pass val: 5\n",
      "Condition Does not meet\n",
      "Pass val: 6\n",
      "90 ----- 7\n",
      "Pass val: 0\n",
      "Condition Does not meet\n",
      "Pass val: 1\n",
      "25 ----- 2\n",
      "Pass val: 2\n",
      "25 ----- 3\n",
      "Pass val: 3\n",
      "25 ----- 4\n",
      "Pass val: 4\n",
      "Condition Does not meet\n",
      "Pass val: 5\n",
      "34 ----- 6\n",
      "Pass val: 0\n",
      "Condition Does not meet\n",
      "Pass val: 1\n",
      "Condition Does not meet\n",
      "Pass val: 2\n",
      "22 ----- 3\n",
      "Pass val: 3\n",
      "Condition Does not meet\n",
      "Pass val: 4\n",
      "25 ----- 5\n",
      "Pass val: 0\n",
      "Condition Does not meet\n",
      "Pass val: 1\n",
      "12 ----- 2\n",
      "Pass val: 2\n",
      "Condition Does not meet\n",
      "Pass val: 3\n",
      "22 ----- 4\n",
      "Pass val: 0\n",
      "Condition Does not meet\n",
      "Pass val: 1\n",
      "Condition Does not meet\n",
      "Pass val: 2\n",
      "12 ----- 3\n",
      "Pass val: 0\n",
      "Condition Does not meet\n",
      "Pass val: 1\n",
      "11 ----- 2\n",
      "Pass val: 0\n",
      "Condition Does not meet\n",
      "[2, 5, 11, 12, 22, 25, 34, 90]\n"
     ]
    }
   ],
   "source": [
    "my_array = [2, 34, 25, 12, 22, 11, 90, 5]\n",
    "\n",
    "for i in range(len(my_array)-1):\n",
    "    swapped = False\n",
    "    for j in range(len(my_array)-i-1):\n",
    "        print(f'Pass val: {j}')\n",
    "        if my_array[j] > my_array[j+1]:\n",
    "            print(f'{my_array[j]} ----- {j+1}')\n",
    "            my_array[j], my_array[j+1] = my_array[j+1],  my_array[j]\n",
    "            swapped = True\n",
    "        else:\n",
    "            print('Condition Does not meet')\n",
    "    if not swapped:\n",
    "      break\n",
    "        \n",
    "\n",
    "print(my_array)  "
   ]
  },
  {
   "cell_type": "code",
   "execution_count": null,
   "metadata": {},
   "outputs": [],
   "source": []
  }
 ],
 "metadata": {
  "kernelspec": {
   "display_name": "Python 3",
   "language": "python",
   "name": "python3"
  },
  "language_info": {
   "codemirror_mode": {
    "name": "ipython",
    "version": 3
   },
   "file_extension": ".py",
   "mimetype": "text/x-python",
   "name": "python",
   "nbconvert_exporter": "python",
   "pygments_lexer": "ipython3",
   "version": "3.11.11"
  }
 },
 "nbformat": 4,
 "nbformat_minor": 2
}
