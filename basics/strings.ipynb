{
 "cells": [
  {
   "cell_type": "markdown",
   "metadata": {},
   "source": [
    "## 1. Immutable Property"
   ]
  },
  {
   "cell_type": "code",
   "execution_count": 1,
   "metadata": {},
   "outputs": [
    {
     "name": "stdout",
     "output_type": "stream",
     "text": [
      "Hello\n"
     ]
    }
   ],
   "source": [
    "s = \"hello\"\n",
    "# s[0] = 'H'  # ❌ TypeError: 'str' object does not support item assignment\n",
    "s = \"Hello\"\n",
    "print(s)"
   ]
  },
  {
   "cell_type": "markdown",
   "metadata": {},
   "source": [
    "## 2. String Operations\n",
    "### Concatenation\n"
   ]
  },
  {
   "cell_type": "code",
   "execution_count": 7,
   "metadata": {},
   "outputs": [
    {
     "name": "stdout",
     "output_type": "stream",
     "text": [
      "Hello (**) World\n"
     ]
    }
   ],
   "source": [
    "s1 = \"Hello\"\n",
    "s2 = \"World\"\n",
    "result = s1 + \" (**) \" + s2  # 'Hello World'\n",
    "print(result)"
   ]
  },
  {
   "cell_type": "markdown",
   "metadata": {},
   "source": [
    "### Repetition"
   ]
  },
  {
   "cell_type": "code",
   "execution_count": 13,
   "metadata": {},
   "outputs": [
    {
     "name": "stdout",
     "output_type": "stream",
     "text": [
      "Hi Hi Hi \n"
     ]
    }
   ],
   "source": [
    "s = \"Hi \" * 3\n",
    "print(s)"
   ]
  },
  {
   "cell_type": "markdown",
   "metadata": {},
   "source": [
    "### Length of a String\n"
   ]
  },
  {
   "cell_type": "code",
   "execution_count": 16,
   "metadata": {},
   "outputs": [
    {
     "name": "stdout",
     "output_type": "stream",
     "text": [
      "Length of Python is 6\n"
     ]
    }
   ],
   "source": [
    "s = \"Python\"\n",
    "length = len(s)  # 6\n",
    "print(f'Length of {s} is {length}')"
   ]
  },
  {
   "cell_type": "markdown",
   "metadata": {},
   "source": [
    "## 3. Indexing and Slicing\n",
    "### Indexing"
   ]
  },
  {
   "cell_type": "code",
   "execution_count": 18,
   "metadata": {},
   "outputs": [
    {
     "name": "stdout",
     "output_type": "stream",
     "text": [
      "The index 0 represent P and the index -1 represent n\n"
     ]
    }
   ],
   "source": [
    "s = \"Python\"\n",
    "first_char = s[0]    # 'P'\n",
    "last_char = s[-1]    # 'n'\n",
    "print(f'The index 0 represent {first_char} and the index -1 represent {last_char}')"
   ]
  },
  {
   "cell_type": "markdown",
   "metadata": {},
   "source": [
    "### Slicing"
   ]
  },
  {
   "cell_type": "code",
   "execution_count": null,
   "metadata": {},
   "outputs": [
    {
     "name": "stdout",
     "output_type": "stream",
     "text": [
      "Inter\n",
      "Inter\n",
      "view\n",
      "weivretnI\n"
     ]
    }
   ],
   "source": [
    "s = \"Interview\"\n",
    "substring1 = s[0:5]\n",
    "substring2 = s[:5]\n",
    "substring3 = s[5:]\n",
    "substring4 = s[::-1] # 'weivretnI' (Reversed string)\n",
    "\n",
    "print(substring1)\n",
    "print(substring2)\n",
    "print(substring3)\n",
    "print(substring4)"
   ]
  },
  {
   "cell_type": "markdown",
   "metadata": {},
   "source": [
    "### Interview Tip:\n",
    "- Using [::-1] is the fastest way to reverse a string in Python.\n",
    "\n"
   ]
  },
  {
   "cell_type": "code",
   "execution_count": 31,
   "metadata": {},
   "outputs": [
    {
     "name": "stdout",
     "output_type": "stream",
     "text": [
      "NATSIKAP\n"
     ]
    }
   ],
   "source": [
    "name = 'PAKISTAN'\n",
    "print(name[::-1]) # Reverses the String "
   ]
  },
  {
   "cell_type": "markdown",
   "metadata": {},
   "source": [
    "## 4. String Methods (Important for Interviews)\n"
   ]
  },
  {
   "cell_type": "markdown",
   "metadata": {},
   "source": [
    "### Changing Case"
   ]
  },
  {
   "cell_type": "code",
   "execution_count": 39,
   "metadata": {},
   "outputs": [
    {
     "name": "stdout",
     "output_type": "stream",
     "text": [
      "PYTHON IS FUN\n",
      "python is fun\n",
      "Python Is Fun\n",
      "Python is fun\n",
      "pYTHON IS fUN\n"
     ]
    }
   ],
   "source": [
    "s = \"Python is Fun\"\n",
    "print(s.upper())   # 'PYTHON IS FUN'\n",
    "print(s.lower())   # 'python is fun'\n",
    "print(s.title())   # 'Python Is Fun'\n",
    "print(s.capitalize())  # 'Python is fun'\n",
    "print(s.swapcase())    # 'pYTHON IS fUN'"
   ]
  },
  {
   "cell_type": "markdown",
   "metadata": {},
   "source": [
    "## 5. Checking String Properties\n"
   ]
  },
  {
   "cell_type": "code",
   "execution_count": 41,
   "metadata": {},
   "outputs": [
    {
     "name": "stdout",
     "output_type": "stream",
     "text": [
      "True\n",
      "False\n"
     ]
    }
   ],
   "source": [
    "print(\"abc\".isalpha())   # True (Only alphabets)\n",
    "print(\"a1bc\".isalpha())    "
   ]
  },
  {
   "cell_type": "code",
   "execution_count": 43,
   "metadata": {},
   "outputs": [
    {
     "name": "stdout",
     "output_type": "stream",
     "text": [
      "True\n",
      "False\n"
     ]
    }
   ],
   "source": [
    "print(\"123\".isdigit())   # True (Only digits)\n",
    "print(\"1s23\".isdigit())   "
   ]
  },
  {
   "cell_type": "code",
   "execution_count": 46,
   "metadata": {},
   "outputs": [
    {
     "name": "stdout",
     "output_type": "stream",
     "text": [
      "True\n",
      "True\n",
      "True\n"
     ]
    }
   ],
   "source": [
    "print(\"abc123\".isalnum()) # True (Alphanumeric)\n",
    "print(\"123\".isalnum()) \n",
    "print(\"abc\".isalnum()) "
   ]
  },
  {
   "cell_type": "code",
   "execution_count": 50,
   "metadata": {},
   "outputs": [
    {
     "name": "stdout",
     "output_type": "stream",
     "text": [
      "False\n",
      "True\n"
     ]
    }
   ],
   "source": [
    "print(\"\".isspace())   # True (Only spaces)\n",
    "print(\"   \".isspace())   "
   ]
  },
  {
   "cell_type": "markdown",
   "metadata": {},
   "source": [
    "### Trimming Whitespaces"
   ]
  },
  {
   "cell_type": "code",
   "execution_count": 51,
   "metadata": {},
   "outputs": [
    {
     "name": "stdout",
     "output_type": "stream",
     "text": [
      "Hello\n",
      "Hello  \n",
      "  Hello\n"
     ]
    }
   ],
   "source": [
    "s = \"  Hello  \"\n",
    "print(s.strip())  # 'Hello' (Removes spaces from both ends)\n",
    "print(s.lstrip()) # 'Hello  ' (Removes left spaces)\n",
    "print(s.rstrip()) # '  Hello' (Removes right spaces)\n"
   ]
  },
  {
   "cell_type": "markdown",
   "metadata": {},
   "source": [
    "### Finding and Replacing"
   ]
  },
  {
   "cell_type": "code",
   "execution_count": 55,
   "metadata": {},
   "outputs": [
    {
     "name": "stdout",
     "output_type": "stream",
     "text": [
      "6\n",
      "hello Python\n"
     ]
    }
   ],
   "source": [
    "s = \"hello world\"\n",
    "print(s.find('world'))\n",
    "print(s.replace(\"world\", 'Python'))"
   ]
  },
  {
   "cell_type": "markdown",
   "metadata": {},
   "source": [
    "### Splitting and Joining"
   ]
  },
  {
   "cell_type": "code",
   "execution_count": 59,
   "metadata": {},
   "outputs": [
    {
     "name": "stdout",
     "output_type": "stream",
     "text": [
      "['Python', 'is', 'amazing']\n",
      "Python-is-amazing\n"
     ]
    }
   ],
   "source": [
    "s = \"Python is amazing\"\n",
    "words = s.split()  # ['Python', 'is', 'amazing']\n",
    "print(words)\n",
    "joined = \"-\".join(words)  # 'Python-is-amazing'\n",
    "print(joined)"
   ]
  },
  {
   "cell_type": "markdown",
   "metadata": {},
   "source": [
    "## 6. Advanced String Tricks\n",
    "### Checking if a String is Palindrome"
   ]
  },
  {
   "cell_type": "code",
   "execution_count": 66,
   "metadata": {},
   "outputs": [
    {
     "name": "stdout",
     "output_type": "stream",
     "text": [
      "True\n",
      "False\n",
      "True\n"
     ]
    }
   ],
   "source": [
    "def is_palindrome(s):\n",
    "    return s == s[::-1] # Return True if the string is equal to its reversed version \n",
    "\n",
    "print(is_palindrome(\"madam\"))  # True\n",
    "print(is_palindrome(\"hello\"))  # False\n",
    "print(is_palindrome(\"racecar\"))  # True"
   ]
  },
  {
   "cell_type": "markdown",
   "metadata": {},
   "source": [
    "### Counting Character Occurrences"
   ]
  },
  {
   "cell_type": "code",
   "execution_count": 67,
   "metadata": {},
   "outputs": [
    {
     "name": "stdout",
     "output_type": "stream",
     "text": [
      "3\n"
     ]
    }
   ],
   "source": [
    "s = \"banana\"\n",
    "print(s.count('a'))  # 3"
   ]
  },
  {
   "cell_type": "markdown",
   "metadata": {},
   "source": [
    "### Finding Most Frequent Character"
   ]
  },
  {
   "cell_type": "code",
   "execution_count": 84,
   "metadata": {},
   "outputs": [
    {
     "name": "stdout",
     "output_type": "stream",
     "text": [
      "[(' ', 4), ('e', 2), ('l', 2)]\n"
     ]
    },
    {
     "data": {
      "text/plain": [
       "(' ', 4)"
      ]
     },
     "execution_count": 84,
     "metadata": {},
     "output_type": "execute_result"
    }
   ],
   "source": [
    "from collections import Counter \n",
    "s = 'Hello I am mastering Python'\n",
    "counter = Counter(s)\n",
    "most_common = counter.most_common(3)\n",
    "print(most_common)\n",
    "most_common[0]"
   ]
  },
  {
   "cell_type": "markdown",
   "metadata": {},
   "source": [
    "### Removing Duplicates from a String\n"
   ]
  },
  {
   "cell_type": "code",
   "execution_count": 98,
   "metadata": {},
   "outputs": [
    {
     "name": "stdout",
     "output_type": "stream",
     "text": [
      "gnarpiom\n"
     ]
    }
   ],
   "source": [
    "s = \"programming\"\n",
    "print(\"\".join(set(s)))     # 'agimnopr'"
   ]
  },
  {
   "cell_type": "markdown",
   "metadata": {},
   "source": [
    "### Anagram Check"
   ]
  },
  {
   "cell_type": "code",
   "execution_count": 99,
   "metadata": {},
   "outputs": [
    {
     "name": "stdout",
     "output_type": "stream",
     "text": [
      "True\n"
     ]
    }
   ],
   "source": [
    "def is_anagram(s1, s2):\n",
    "    return sorted(s1) == sorted(s2)\n",
    "\n",
    "print(is_anagram(\"listen\", \"silent\"))  # True\n"
   ]
  },
  {
   "cell_type": "markdown",
   "metadata": {},
   "source": [
    "## 7. Python String Interview Questions\n"
   ]
  },
  {
   "cell_type": "code",
   "execution_count": 105,
   "metadata": {},
   "outputs": [
    {
     "name": "stdout",
     "output_type": "stream",
     "text": [
      "World Hello\n"
     ]
    }
   ],
   "source": [
    "# Reverse words in a sentence\n",
    "s = \"Hello World\"\n",
    "print(\" \".join(s.split()[::-1]))\n"
   ]
  },
  {
   "cell_type": "markdown",
   "metadata": {},
   "source": [
    "### 1️⃣ remove_vowels(s)"
   ]
  },
  {
   "cell_type": "code",
   "execution_count": 132,
   "metadata": {},
   "outputs": [
    {
     "name": "stdout",
     "output_type": "stream",
     "text": [
      " m lrnng pythn!\n"
     ]
    }
   ],
   "source": [
    "def remove_vowels(arg_string):\n",
    "    lower_case = arg_string.lower()\n",
    "    vowels = 'aeiou'\n",
    "    res = ''\n",
    "    for char in lower_case:\n",
    "        if char not in vowels:\n",
    "            res += char\n",
    "    return res\n",
    "\n",
    "\n",
    "print(remove_vowels(\"I am learning Python!\"))"
   ]
  },
  {
   "cell_type": "markdown",
   "metadata": {},
   "source": [
    "### 2️⃣ first_unique(s)"
   ]
  },
  {
   "cell_type": "code",
   "execution_count": null,
   "metadata": {},
   "outputs": [
    {
     "ename": "AttributeError",
     "evalue": "'Counter' object has no attribute 'less_common'",
     "output_type": "error",
     "traceback": [
      "\u001b[0;31m---------------------------------------------------------------------------\u001b[0m",
      "\u001b[0;31mAttributeError\u001b[0m                            Traceback (most recent call last)",
      "Cell \u001b[0;32mIn[140], line 4\u001b[0m\n\u001b[1;32m      1\u001b[0m \u001b[38;5;28;01mfrom\u001b[39;00m\u001b[38;5;250m \u001b[39m\u001b[38;5;21;01mcollections\u001b[39;00m\u001b[38;5;250m \u001b[39m\u001b[38;5;28;01mimport\u001b[39;00m Counter\n\u001b[1;32m      3\u001b[0m counter \u001b[38;5;241m=\u001b[39m Counter(\u001b[38;5;124m'\u001b[39m\u001b[38;5;124mSwisseroz\u001b[39m\u001b[38;5;124m'\u001b[39m)\n\u001b[0;32m----> 4\u001b[0m \u001b[38;5;28mprint\u001b[39m(\u001b[43mcounter\u001b[49m\u001b[38;5;241;43m.\u001b[39;49m\u001b[43mless_common\u001b[49m(\u001b[38;5;241m1\u001b[39m))\n\u001b[1;32m      7\u001b[0m \u001b[38;5;66;03m# def first_unique(s):\u001b[39;00m\n\u001b[1;32m      8\u001b[0m \u001b[38;5;66;03m#     counter = Counter(s)  # Count frequency of each character\u001b[39;00m\n\u001b[1;32m      9\u001b[0m \u001b[38;5;66;03m#     for ch in s:\u001b[39;00m\n\u001b[0;32m   (...)\u001b[0m\n\u001b[1;32m     13\u001b[0m \n\u001b[1;32m     14\u001b[0m \u001b[38;5;66;03m# print(first_unique(\"swiss\"))  # 'w'\u001b[39;00m\n",
      "\u001b[0;31mAttributeError\u001b[0m: 'Counter' object has no attribute 'less_common'"
     ]
    }
   ],
   "source": [
    "# def first_unique(s):\n",
    "#     counter = Counter(s)  # Count frequency of each character\n",
    "#     for ch in s:\n",
    "#         if counter[ch] == 1:  # Find the first character with count 1\n",
    "#             return ch\n",
    "#     return None  # If no unique character is found\n",
    "\n",
    "# print(first_unique(\"swiss\"))  # 'w'\n"
   ]
  },
  {
   "cell_type": "code",
   "execution_count": null,
   "metadata": {},
   "outputs": [],
   "source": []
  }
 ],
 "metadata": {
  "kernelspec": {
   "display_name": "Python 3",
   "language": "python",
   "name": "python3"
  },
  "language_info": {
   "codemirror_mode": {
    "name": "ipython",
    "version": 3
   },
   "file_extension": ".py",
   "mimetype": "text/x-python",
   "name": "python",
   "nbconvert_exporter": "python",
   "pygments_lexer": "ipython3",
   "version": "3.11.11"
  }
 },
 "nbformat": 4,
 "nbformat_minor": 2
}
