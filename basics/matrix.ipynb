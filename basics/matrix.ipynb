{
 "cells": [
  {
   "cell_type": "markdown",
   "metadata": {},
   "source": [
    "### 1. Basics of Matrix in Python\n",
    "- You can represent a matrix using a list of lists:\n",
    "\n"
   ]
  },
  {
   "cell_type": "code",
   "execution_count": 4,
   "metadata": {},
   "outputs": [
    {
     "name": "stdout",
     "output_type": "stream",
     "text": [
      "Original matrix: [[1, 2, 3], [4, 5, 6], [7, 8, 9]]\n"
     ]
    }
   ],
   "source": [
    "matrix = [\n",
    "    [1, 2, 3],\n",
    "    [4, 5, 6],\n",
    "    [7, 8, 9]\n",
    "]\n",
    "\n",
    "print(f\"Original matrix: {matrix}\")"
   ]
  },
  {
   "cell_type": "markdown",
   "metadata": {},
   "source": [
    "### 2. Accessing Elements\n"
   ]
  },
  {
   "cell_type": "code",
   "execution_count": 5,
   "metadata": {},
   "outputs": [
    {
     "name": "stdout",
     "output_type": "stream",
     "text": [
      "2\n"
     ]
    }
   ],
   "source": [
    "print(matrix[0][1])  # Output: 2 (first row, second column)\n"
   ]
  },
  {
   "cell_type": "markdown",
   "metadata": {},
   "source": [
    "### 3. Matrix Traversal\n"
   ]
  },
  {
   "cell_type": "markdown",
   "metadata": {},
   "source": [
    "#### a. Row-wise\n"
   ]
  },
  {
   "cell_type": "code",
   "execution_count": 13,
   "metadata": {},
   "outputs": [
    {
     "name": "stdout",
     "output_type": "stream",
     "text": [
      "1 2 3 4 5 6 7 8 9 "
     ]
    }
   ],
   "source": [
    "# Accessing elements in a 2D list, meaning print whoe matrix as a single line\n",
    "\n",
    "matrix = [\n",
    "    [1, 2, 3],\n",
    "    [4, 5, 6],\n",
    "    [7, 8, 9]\n",
    "]\n",
    "\n",
    "for row in range(len(matrix)):\n",
    "    for item in range(len(matrix)):\n",
    "        print(matrix[row][item], end=\" \")\n",
    "\n",
    "\n"
   ]
  },
  {
   "cell_type": "markdown",
   "metadata": {},
   "source": [
    "#### b. Index-based"
   ]
  },
  {
   "cell_type": "code",
   "execution_count": null,
   "metadata": {},
   "outputs": [
    {
     "name": "stdout",
     "output_type": "stream",
     "text": [
      "1 2 3 4 5 6 7 8 9 "
     ]
    }
   ],
   "source": [
    "for i in range(len(matrix)):\n",
    "    for j in range(len(matrix[0])):\n",
    "        print(matrix[i][j], end=\" \")"
   ]
  },
  {
   "cell_type": "markdown",
   "metadata": {},
   "source": [
    "### 4. Common Operations\n",
    "`🧠 Tips:`\n",
    "- len(matrix) gives number of rows.\n",
    "- len(matrix[0]) gives number of columns (assuming all rows are equal length)\n",
    "- Always access elements with matrix[i][j] — i is row, j is column"
   ]
  },
  {
   "cell_type": "markdown",
   "metadata": {},
   "source": [
    "#### a. Transpose"
   ]
  },
  {
   "cell_type": "code",
   "execution_count": null,
   "metadata": {},
   "outputs": [
    {
     "name": "stdout",
     "output_type": "stream",
     "text": [
      "[[0, 0, 0], [0, 0, 0], [0, 0, 0]]\n"
     ]
    }
   ],
   "source": [
    "# item = [[0]*3 for _ in range(3)]\n",
    "\n",
    "# print(item)\n",
    "\n",
    " "
   ]
  },
  {
   "cell_type": "code",
   "execution_count": 70,
   "metadata": {},
   "outputs": [
    {
     "name": "stdout",
     "output_type": "stream",
     "text": [
      "matrix[0][0] = 1\n",
      "matrix[0][1] = 2\n",
      "matrix[0][2] = 3\n",
      "matrix[1][0] = 4\n",
      "matrix[1][1] = 5\n",
      "matrix[1][2] = 6\n",
      "matrix[2][0] = 7\n",
      "matrix[2][1] = 8\n",
      "matrix[2][2] = 9\n"
     ]
    }
   ],
   "source": [
    "\n",
    "matrix = [\n",
    "    [1, 2, 3],\n",
    "    [4, 5, 6],\n",
    "    [7, 8, 9]\n",
    "]  \n",
    "\n",
    "for i in range(len(matrix)):  # rows\n",
    "    for j in range(len(matrix[0])):  # cols\n",
    "        print(f\"matrix[{i}][{j}] = {matrix[i][j]}\")\n"
   ]
  },
  {
   "cell_type": "code",
   "execution_count": null,
   "metadata": {},
   "outputs": [
    {
     "name": "stdout",
     "output_type": "stream",
     "text": [
      "    1     4     7 \n",
      "    2     5     8 \n",
      "    3     6     9 \n"
     ]
    }
   ],
   "source": [
    "# matrix[1][1]==> matrix[1][1]\n",
    "# matrix[1][2]==> matrix[2][1]\n",
    "# matrix[1][3]==> matrix[3][1]\n",
    "\n",
    "\n",
    "    \n",
    "matrix = [\n",
    "    [1, 2, 3],\n",
    "    [4, 5, 6],\n",
    "    [7, 8, 9]\n",
    "]  \n",
    "\n",
    "\n",
    "\n",
    "rows, cols = len(matrix), len(matrix[0])\n",
    "transposed = [[0] * rows for _ in range(cols)]\n",
    "\n",
    "for i in range(len(matrix)):\n",
    "    for j in range(len(matrix[0])):\n",
    "        transposed[i][j] = matrix[j][i]\n",
    "\n",
    "\n",
    "\n",
    "# print(transposed)     \n",
    "for row in transposed:\n",
    "    # print(item)\n",
    "    for item in row:\n",
    "        print(f\"{item:5}\", end=' ')\n",
    "    print()\n",
    "     \n",
    " \n"
   ]
  },
  {
   "cell_type": "code",
   "execution_count": 7,
   "metadata": {},
   "outputs": [
    {
     "name": "stdout",
     "output_type": "stream",
     "text": [
      "1 4 7 \n",
      "2 5 8 \n",
      "3 6 9 \n"
     ]
    }
   ],
   "source": [
    "matrix = [\n",
    "    [1, 2, 3],\n",
    "    [4, 5, 6],\n",
    "    [7, 8, 9]\n",
    "]  \n",
    "rows, cols = len(matrix), len(matrix[0])\n",
    "transposed = [[0] * rows for _ in range(cols)]\n",
    "\n",
    "for i in range(len(matrix)):\n",
    "     for j in range(len(matrix[0])):\n",
    "          transposed[i][j] = matrix[j][i]\n",
    "          print(transposed[i][j], end=' ')\n",
    "    \n",
    "     print()\n"
   ]
  },
  {
   "cell_type": "markdown",
   "metadata": {},
   "source": [
    "## Repeat!"
   ]
  },
  {
   "cell_type": "code",
   "execution_count": 26,
   "metadata": {},
   "outputs": [
    {
     "name": "stdout",
     "output_type": "stream",
     "text": [
      "1 4 7 \n",
      "2 5 8 \n",
      "3 6 9 \n"
     ]
    }
   ],
   "source": [
    "matrix = [\n",
    "    [1, 2, 3],\n",
    "    [4, 5, 6],\n",
    "    [7, 8, 9]]\n",
    "\n",
    "rows = len(matrix)\n",
    "cols = len(matrix[0])  \n",
    "\n",
    "transposed = [[0]*rows for _ in range(cols)]\n",
    "\n",
    "\n",
    "for i in range(len(matrix)):\n",
    "    for j in range(len(matrix[0])):\n",
    "        transposed[i][j] = matrix[j][i]\n",
    "        print(transposed[i][j], end=' ')\n",
    "    print()\n",
    "      \n",
    "\n"
   ]
  },
  {
   "cell_type": "markdown",
   "metadata": {},
   "source": [
    "### For Non-Square matrix"
   ]
  },
  {
   "cell_type": "code",
   "execution_count": 34,
   "metadata": {},
   "outputs": [
    {
     "name": "stdout",
     "output_type": "stream",
     "text": [
      "1  4  7  \n",
      "2  5  8  \n"
     ]
    }
   ],
   "source": [
    "matrix = [\n",
    "    [1, 2],\n",
    "    [4, 5],\n",
    "    [7, 8]]\n",
    "\n",
    "rows = len(matrix)\n",
    "cols = len(matrix[0])  \n",
    "\n",
    "# print(f'Row#: {rows}--- Columns#: {cols}')\n",
    "\n",
    "transposed = [[0]*rows for _ in range(cols)]\n",
    "# print(transposed)\n",
    "\n",
    "for i in range(len(transposed)):\n",
    "    for j in range(len(transposed[0])):\n",
    "        transposed[i][j] = matrix[j][i]\n",
    "        print(transposed[i][j], end='  ')\n",
    "    print()"
   ]
  },
  {
   "cell_type": "code",
   "execution_count": null,
   "metadata": {},
   "outputs": [
    {
     "name": "stdout",
     "output_type": "stream",
     "text": [
      "1  4  \n",
      "2  5  \n",
      "3  6  \n"
     ]
    }
   ],
   "source": [
    "matrix = [\n",
    "    [1, 2, 3],\n",
    "    [4, 5, 6]]\n",
    "\n",
    "rows = len(matrix)\n",
    "cols = len(matrix[0])  \n",
    "\n",
    "# print(f'Row#: {rows}--- Columns#: {cols}')\n",
    "\n",
    "transposed = [[0]*rows for _ in range(cols)]\n",
    "# print(transposed)\n",
    "\n",
    "for i in range(len(transposed)):\n",
    "    for j in range(len(transposed[0])):\n",
    "        transposed[i][j] = matrix[j][i]\n",
    "        print(transposed[i][j], end='  ')\n",
    "    print()"
   ]
  },
  {
   "cell_type": "markdown",
   "metadata": {},
   "source": [
    "#### 🔁 b. Rotate Matrix 90° Clockwise\n",
    "\n",
    "## 📌 Algorithm:\n",
    "- Transpose the matrix.\n",
    "- Reverse each row\n",
    "\n"
   ]
  },
  {
   "cell_type": "code",
   "execution_count": 122,
   "metadata": {},
   "outputs": [
    {
     "name": "stdout",
     "output_type": "stream",
     "text": [
      "[4, 1]\n",
      "[5, 2]\n",
      "[6, 3]\n"
     ]
    }
   ],
   "source": [
    "matrix = [\n",
    "    [1, 2, 3],\n",
    "    [4, 5, 6]]\n",
    "\n",
    "# row = [10, 20, 30]\n",
    "## rever-1)\n",
    "# for i in reversed(row):\n",
    "#     print(i)\n",
    "## rever-2(alternative)\n",
    "# for j in range(len(row)):\n",
    "#     print(row[len(row)-j-1])\n",
    "\n",
    "# print(f'Row#: {rows}--- Columns#: {cols}')\n",
    "rows = len(matrix)\n",
    "cols = len(matrix[0])\n",
    "transposed = [[0]*rows for _ in range(cols)]\n",
    "\n",
    "\n",
    "# print(transposed)\n",
    "\n",
    "for i in range(len(transposed)):\n",
    "    for j in range(len(transposed[0])):\n",
    "        transposed[i][j] = matrix[j][i]\n",
    "    #     print(transposed[i][j], end='  ')     \n",
    "    # print()\n",
    "\n",
    "for k in range(len(transposed)):\n",
    "    # print(transposed[len(transposed) - k - 1])\n",
    "    transposed[k].reverse()\n",
    "    print(transposed[k])"
   ]
  },
  {
   "cell_type": "code",
   "execution_count": 125,
   "metadata": {},
   "outputs": [
    {
     "name": "stdout",
     "output_type": "stream",
     "text": [
      "[4, 1]\n",
      "[5, 2]\n",
      "[6, 3]\n"
     ]
    }
   ],
   "source": [
    "def transpose(matrix):\n",
    "    rows, cols = len(matrix), len(matrix[0])\n",
    "    \n",
    "    # Step 1: Create a new matrix of size cols x rows initialized to 0s\n",
    "    transposed = [[0] * rows for _ in range(cols)]\n",
    "    \n",
    "    # Step 2: Assign transposed[j][i] = matrix[i][j]\n",
    "    for i in range(rows):\n",
    "        for j in range(cols):\n",
    "            transposed[j][i] = matrix[i][j]\n",
    "    \n",
    "    return transposed\n",
    "\n",
    "\n",
    "def rotate_90_clockwise(matrix):\n",
    "    # Step 1: Transpose the matrix\n",
    "    transposed = transpose(matrix)\n",
    "\n",
    "    # Step 2: Reverse each row of the transposed matrix\n",
    "    for row in transposed:\n",
    "        row.reverse()\n",
    "\n",
    "    return transposed\n",
    "\n",
    "matrix = [\n",
    "    [1, 2, 3],\n",
    "    [4, 5, 6]]\n",
    "\n",
    "rotated = rotate_90_clockwise(matrix)\n",
    "\n",
    "for k in range(len(rotated)):\n",
    "    # print(transposed[len(transposed) - k - 1])\n",
    "    print(rotated[k])\n",
    "# print(rotated)\n"
   ]
  },
  {
   "cell_type": "markdown",
   "metadata": {},
   "source": [
    "### Matrix-Row Reversal "
   ]
  },
  {
   "cell_type": "code",
   "execution_count": 126,
   "metadata": {},
   "outputs": [
    {
     "name": "stdout",
     "output_type": "stream",
     "text": [
      "3 2 1 \n",
      "6 5 4 \n"
     ]
    }
   ],
   "source": [
    "matrix = [\n",
    "    [1, 2, 3],\n",
    "    [4, 5, 6]]\n",
    "\n",
    "\n",
    "for i in range(len(matrix)):\n",
    "    # print(matrix[i])\n",
    "    for j in range(len(matrix[0])):\n",
    "        matrix[i].reverse()\n",
    "        print(matrix[i][j], end=' ')\n",
    "    print()"
   ]
  },
  {
   "cell_type": "code",
   "execution_count": null,
   "metadata": {},
   "outputs": [
    {
     "name": "stdout",
     "output_type": "stream",
     "text": [
      "Reversed Version [[4, 5, 6], [1, 2, 3]]\n"
     ]
    }
   ],
   "source": [
    "matrix = [\n",
    "    [1, 2, 3],\n",
    "    [4, 5, 6]]\n",
    "\n",
    "print(f'Reversed Version {matrix[::-1]}')\n"
   ]
  },
  {
   "cell_type": "code",
   "execution_count": 136,
   "metadata": {},
   "outputs": [
    {
     "name": "stdout",
     "output_type": "stream",
     "text": [
      "Reversed Version [[4, 5, 6], [1, 2, 3]]\n"
     ]
    }
   ],
   "source": [
    "def reverse_columns(matrix):\n",
    "    return matrix[::-1]\n",
    "\n",
    "matrix = [\n",
    "    [1, 2, 3],\n",
    "    [4, 5, 6]]\n",
    "\n",
    "print(f'Reversed Version {reverse_columns(matrix)}')"
   ]
  },
  {
   "cell_type": "code",
   "execution_count": null,
   "metadata": {},
   "outputs": [],
   "source": []
  }
 ],
 "metadata": {
  "kernelspec": {
   "display_name": "Python 3",
   "language": "python",
   "name": "python3"
  },
  "language_info": {
   "codemirror_mode": {
    "name": "ipython",
    "version": 3
   },
   "file_extension": ".py",
   "mimetype": "text/x-python",
   "name": "python",
   "nbconvert_exporter": "python",
   "pygments_lexer": "ipython3",
   "version": "3.11.11"
  }
 },
 "nbformat": 4,
 "nbformat_minor": 2
}
